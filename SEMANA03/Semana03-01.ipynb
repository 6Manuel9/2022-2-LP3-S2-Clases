{
 "cells": [
  {
   "cell_type": "markdown",
   "id": "4164b1d6",
   "metadata": {},
   "source": [
    "# SEMANA 03"
   ]
  },
  {
   "cell_type": "markdown",
   "id": "4dc00cbe",
   "metadata": {},
   "source": [
    "SEMANA 03\n",
    "Ronald Manuel Quijahuaman Cordova"
   ]
  },
  {
   "cell_type": "markdown",
   "id": "0a111875",
   "metadata": {},
   "source": [
    "# SEMANA 03 \n",
    "Ronald Manuel Quijahuaman Cordova"
   ]
  },
  {
   "cell_type": "raw",
   "id": "eae4c3d0",
   "metadata": {},
   "source": [
    "Temas\n",
    "1. Numeros\n",
    "2. Variables\n",
    "3. Manjeo de cadenas\n",
    "4. Ingreso de datos por el teclado\n",
    "5. Operadores"
   ]
  },
  {
   "cell_type": "code",
   "execution_count": 2,
   "id": "a29a994d",
   "metadata": {},
   "outputs": [
    {
     "data": {
      "text/plain": [
       "9"
      ]
     },
     "execution_count": 2,
     "metadata": {},
     "output_type": "execute_result"
    }
   ],
   "source": [
    "4+5"
   ]
  },
  {
   "cell_type": "code",
   "execution_count": null,
   "id": "cdf69e55",
   "metadata": {},
   "outputs": [],
   "source": []
  }
 ],
 "metadata": {
  "kernelspec": {
   "display_name": "Python 3 (ipykernel)",
   "language": "python",
   "name": "python3"
  },
  "language_info": {
   "codemirror_mode": {
    "name": "ipython",
    "version": 3
   },
   "file_extension": ".py",
   "mimetype": "text/x-python",
   "name": "python",
   "nbconvert_exporter": "python",
   "pygments_lexer": "ipython3",
   "version": "3.9.12"
  }
 },
 "nbformat": 4,
 "nbformat_minor": 5
}
