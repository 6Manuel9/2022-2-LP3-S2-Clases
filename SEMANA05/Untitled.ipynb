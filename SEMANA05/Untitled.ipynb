{
 "cells": [
  {
   "cell_type": "markdown",
   "id": "cf852f16",
   "metadata": {},
   "source": [
    "# SEMANA 05\n",
    "Quijahuaman Cordova, Ronald Manuel\n"
   ]
  },
  {
   "cell_type": "raw",
   "id": "92142d75",
   "metadata": {},
   "source": [
    "Temas:\n",
    "    1. Colecciones de Datos\n",
    "    2. Estructuras Decisivas y Estructuras Repetitivas\n",
    "    3. Clases y Objetos\n",
    "    Funciones"
   ]
  },
  {
   "cell_type": "markdown",
   "id": "71d243bb",
   "metadata": {},
   "source": [
    "1. Colecciones"
   ]
  },
  {
   "cell_type": "code",
   "execution_count": 1,
   "id": "041167ad",
   "metadata": {},
   "outputs": [
    {
     "name": "stdout",
     "output_type": "stream",
     "text": [
      "['Huaman', 'Pineda', 'Luque', 'Cachay']\n"
     ]
    }
   ],
   "source": [
    "# 1.1. Listas\n",
    "# Es una colección de elementos que puede ser ordenado, modificado, etc...\n",
    "# Se identifica por los corchetes\n",
    "# Ejemplo:\n",
    "aula=['Huaman', 'Pineda','Luque','Cachay']\n",
    "print(aula)"
   ]
  },
  {
   "cell_type": "code",
   "execution_count": 2,
   "id": "fee65b1a",
   "metadata": {},
   "outputs": [
    {
     "data": {
      "text/plain": [
       "['Huaman', 'Pineda', 'Luque', 'Cachay']"
      ]
     },
     "execution_count": 2,
     "metadata": {},
     "output_type": "execute_result"
    }
   ],
   "source": [
    "aula"
   ]
  },
  {
   "cell_type": "code",
   "execution_count": 4,
   "id": "c8baddac",
   "metadata": {},
   "outputs": [
    {
     "name": "stdout",
     "output_type": "stream",
     "text": [
      "Huaman\n",
      "Pineda\n"
     ]
    }
   ],
   "source": [
    "# Podemos extraer cada elemento por su posición\n",
    "print(aula[0])\n",
    "print(aula[1])"
   ]
  },
  {
   "cell_type": "code",
   "execution_count": 5,
   "id": "edffe0ea",
   "metadata": {},
   "outputs": [
    {
     "data": {
      "text/plain": [
       "'Soto'"
      ]
     },
     "execution_count": 5,
     "metadata": {},
     "output_type": "execute_result"
    }
   ],
   "source": [
    "# Puedo asignar un valor a una posición de la lista\n",
    "aula[1] = 'Soto'\n",
    "aula[1]"
   ]
  },
  {
   "cell_type": "code",
   "execution_count": 6,
   "id": "bd3664af",
   "metadata": {},
   "outputs": [
    {
     "data": {
      "text/plain": [
       "['Huaman', 'Soto', 'Luque', 'Cachay']"
      ]
     },
     "execution_count": 6,
     "metadata": {},
     "output_type": "execute_result"
    }
   ],
   "source": [
    "# Mostramos como quedó la lista\n",
    "aula"
   ]
  },
  {
   "cell_type": "code",
   "execution_count": 7,
   "id": "b6fb1645",
   "metadata": {},
   "outputs": [],
   "source": [
    "# Para asignar un elemento utilizamos append\n",
    "aula.append(\"Llanos\")\n",
    "aula.append(\"Luque\")"
   ]
  },
  {
   "cell_type": "code",
   "execution_count": 8,
   "id": "56b87ed2",
   "metadata": {},
   "outputs": [
    {
     "data": {
      "text/plain": [
       "['Huaman', 'Soto', 'Luque', 'Cachay', 'Llanos', 'Luque']"
      ]
     },
     "execution_count": 8,
     "metadata": {},
     "output_type": "execute_result"
    }
   ],
   "source": [
    "aula"
   ]
  },
  {
   "cell_type": "code",
   "execution_count": 9,
   "id": "95c1a73f",
   "metadata": {},
   "outputs": [],
   "source": [
    "# Para eliminar elementos utilizamos remove[]\n",
    "aula.remove(\"Huaman\")"
   ]
  },
  {
   "cell_type": "code",
   "execution_count": 10,
   "id": "3efdb399",
   "metadata": {},
   "outputs": [
    {
     "data": {
      "text/plain": [
       "['Soto', 'Luque', 'Cachay', 'Llanos', 'Luque']"
      ]
     },
     "execution_count": 10,
     "metadata": {},
     "output_type": "execute_result"
    }
   ],
   "source": [
    "aula"
   ]
  },
  {
   "cell_type": "code",
   "execution_count": 11,
   "id": "65083243",
   "metadata": {},
   "outputs": [
    {
     "data": {
      "text/plain": [
       "['Soto', 'Cachay', 'Llanos', 'Luque']"
      ]
     },
     "execution_count": 11,
     "metadata": {},
     "output_type": "execute_result"
    }
   ],
   "source": [
    "# Si hubiera varios elementos de valores iguales se elimina la primera coincidencia\n",
    "aula.remove(\"Luque\")\n",
    "aula"
   ]
  },
  {
   "cell_type": "code",
   "execution_count": 12,
   "id": "12f1d469",
   "metadata": {},
   "outputs": [
    {
     "data": {
      "text/plain": [
       "4"
      ]
     },
     "execution_count": 12,
     "metadata": {},
     "output_type": "execute_result"
    }
   ],
   "source": [
    "# Para obtener el tamaño utilizamos Len()\n",
    "len(aula)"
   ]
  },
  {
   "cell_type": "code",
   "execution_count": 14,
   "id": "6e7da755",
   "metadata": {},
   "outputs": [
    {
     "name": "stdout",
     "output_type": "stream",
     "text": [
      "Soto\n",
      "Cachay\n",
      "Llanos\n",
      "Luque\n"
     ]
    }
   ],
   "source": [
    "for alumno in aula:\n",
    "    print(alumno)"
   ]
  },
  {
   "cell_type": "code",
   "execution_count": 15,
   "id": "469efee8",
   "metadata": {},
   "outputs": [
    {
     "data": {
      "text/plain": [
       "['Luque', 'Llanos', 'Cachay', 'Soto']"
      ]
     },
     "execution_count": 15,
     "metadata": {},
     "output_type": "execute_result"
    }
   ],
   "source": [
    "# Para invertir la lista utilizamos reverse()\n",
    "# invertir NO significa ordenar en forma descendente sin invertir la lista\n",
    "aula.reverse()\n",
    "aula"
   ]
  },
  {
   "cell_type": "code",
   "execution_count": 16,
   "id": "2689ddb3",
   "metadata": {},
   "outputs": [
    {
     "data": {
      "text/plain": [
       "['Cachay', 'Llanos', 'Luque', 'Soto']"
      ]
     },
     "execution_count": 16,
     "metadata": {},
     "output_type": "execute_result"
    }
   ],
   "source": [
    "# Para ordenar una lista utilizamos sort()\n",
    "aula.sort()\n",
    "aula"
   ]
  },
  {
   "cell_type": "code",
   "execution_count": 17,
   "id": "753cc81e",
   "metadata": {},
   "outputs": [],
   "source": [
    "# 1.2 Tuplas\n",
    "# Es una colección de elementos ordenada (Ordenado significa que tiene indice) que no se pueden modificar\n",
    "#"
   ]
  },
  {
   "cell_type": "raw",
   "id": "14ecc52f",
   "metadata": {},
   "source": [
    "#1.5 Ejercicio\n",
    "Dado una lista[AQUINO, ARCOS, BALDEON, BARZOLA, BELLO, CACHAY, CARRASCO, CIRIACO, DELGADO, GAYOSO, GONZALES, GRANADOS, HUAMAN, LLANOS,LUQUE, PINEDA, PRADO, QUIJAHUAMAN, QUISPE ,RAKAUSKAS, RAMOS, ROJAS, SOTO,ZARATE]"
   ]
  },
  {
   "cell_type": "code",
   "execution_count": 18,
   "id": "4ae8b23d",
   "metadata": {},
   "outputs": [
    {
     "name": "stdout",
     "output_type": "stream",
     "text": [
      "['AQUINO', 'ARCOS', 'BALDEON', 'BARZOLA', 'BELLO', 'CACHAY', 'CARRASCO', 'CIRIACO', 'DELGADO', 'GAYOSO', 'GONZALES', 'GRANADOS', 'HUAMAN', 'LLANOS', 'LUQUE', 'PINEDA', 'PRADO', 'QUIJAHUAMAN', 'QUISPE', 'RAKAUSKAS', 'RAMOS', 'ROJAS', 'SOTO', 'ZARATE']\n"
     ]
    }
   ],
   "source": [
    "clase=['AQUINO', 'ARCOS', 'BALDEON', 'BARZOLA', 'BELLO', 'CACHAY', 'CARRASCO', 'CIRIACO', 'DELGADO', 'GAYOSO', 'GONZALES', 'GRANADOS', 'HUAMAN', 'LLANOS','LUQUE', 'PINEDA', 'PRADO', 'QUIJAHUAMAN', 'QUISPE' ,'RAKAUSKAS', 'RAMOS', 'ROJAS', 'SOTO','ZARATE']\n",
    "print(clase)"
   ]
  },
  {
   "cell_type": "code",
   "execution_count": 19,
   "id": "f29b5ee4",
   "metadata": {},
   "outputs": [
    {
     "data": {
      "text/plain": [
       "{1: 'AQUINO',\n",
       " 2: 'ARCOS',\n",
       " 3: 'BALDEON',\n",
       " 4: 'BARZOLA',\n",
       " 5: 'BELLO',\n",
       " 6: 'CACHAY',\n",
       " 7: 'CARRASCO',\n",
       " 8: 'CIRIACO',\n",
       " 9: 'DELGADO',\n",
       " 10: 'GAYOSO',\n",
       " 11: 'GONZALES',\n",
       " 12: 'GRANADOS',\n",
       " 13: 'HUAMAN',\n",
       " 14: 'LLANOS',\n",
       " 15: 'LUQUE',\n",
       " 16: 'PINEDA',\n",
       " 17: 'PRADO',\n",
       " 18: 'QUIJAHUAMAN',\n",
       " 19: 'QUISPE',\n",
       " 20: 'RAKAUSKAS',\n",
       " 21: 'RAMOS',\n",
       " 22: 'ROJAS',\n",
       " 23: 'SOTO',\n",
       " 24: 'ZARATE'}"
      ]
     },
     "execution_count": 19,
     "metadata": {},
     "output_type": "execute_result"
    }
   ],
   "source": [
    "diccionario_clase = {1:'AQUINO', 2:'ARCOS', 3:'BALDEON', 4:'BARZOLA', 5:'BELLO', 6:'CACHAY', 7:'CARRASCO', 8:'CIRIACO', 9:'DELGADO', 10:'GAYOSO', 11:'GONZALES', 12:'GRANADOS', 13:'HUAMAN', 14:'LLANOS',15:'LUQUE', 16:'PINEDA', 17:'PRADO', 18:'QUIJAHUAMAN', 19:'QUISPE' ,20:'RAKAUSKAS', 21:'RAMOS', 22:'ROJAS', 23:'SOTO',24:'ZARATE'}\n",
    "diccionario_clase"
   ]
  },
  {
   "cell_type": "code",
   "execution_count": 20,
   "id": "5445206f",
   "metadata": {},
   "outputs": [
    {
     "name": "stdout",
     "output_type": "stream",
     "text": [
      "1 AQUINO\n",
      "2 ARCOS\n",
      "3 BALDEON\n",
      "4 BARZOLA\n",
      "5 BELLO\n",
      "6 CACHAY\n",
      "7 CARRASCO\n",
      "8 CIRIACO\n",
      "9 DELGADO\n",
      "10 GAYOSO\n",
      "11 GONZALES\n",
      "12 GRANADOS\n",
      "13 HUAMAN\n",
      "14 LLANOS\n",
      "15 LUQUE\n",
      "16 PINEDA\n",
      "17 PRADO\n",
      "18 QUIJAHUAMAN\n",
      "19 QUISPE\n",
      "20 RAKAUSKAS\n",
      "21 RAMOS\n",
      "22 ROJAS\n",
      "23 SOTO\n",
      "24 ZARATE\n"
     ]
    }
   ],
   "source": [
    "for indice, valor in diccionario_clase.items():\n",
    "    print(indice,valor)"
   ]
  },
  {
   "cell_type": "code",
   "execution_count": null,
   "id": "b24d2f3d",
   "metadata": {},
   "outputs": [],
   "source": []
  }
 ],
 "metadata": {
  "kernelspec": {
   "display_name": "Python 3 (ipykernel)",
   "language": "python",
   "name": "python3"
  },
  "language_info": {
   "codemirror_mode": {
    "name": "ipython",
    "version": 3
   },
   "file_extension": ".py",
   "mimetype": "text/x-python",
   "name": "python",
   "nbconvert_exporter": "python",
   "pygments_lexer": "ipython3",
   "version": "3.9.12"
  }
 },
 "nbformat": 4,
 "nbformat_minor": 5
}
