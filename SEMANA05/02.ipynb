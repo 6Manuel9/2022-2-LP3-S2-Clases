{
 "cells": [
  {
   "cell_type": "code",
   "execution_count": 1,
   "id": "985bd0c4",
   "metadata": {},
   "outputs": [
    {
     "name": "stdout",
     "output_type": "stream",
     "text": [
      "Producto 1: 1000\n",
      "Producto 2: 89\n",
      "Producto 3: 457\n",
      "El total a pagar es: 1391.4\n"
     ]
    }
   ],
   "source": [
    "P1=float(input(\"Producto 1: \"))\n",
    "P2=float(input(\"Producto 2: \"))\n",
    "P3=float(input(\"Producto 3: \"))\n",
    "total = P1 + P2 + P3\n",
    "if total>=1000:\n",
    "    total *= 0.9\n",
    "print(f\"El total a pagar es: {total}\")"
   ]
  },
  {
   "cell_type": "code",
   "execution_count": 5,
   "id": "282eb0e3",
   "metadata": {},
   "outputs": [
    {
     "name": "stdout",
     "output_type": "stream",
     "text": [
      "Ingrese nombre a buscar: LEÓN\n",
      "No está en la lista de LP3\n"
     ]
    }
   ],
   "source": [
    "LP3=[\"AQUINO\", \"ARCOS\", \"BALDEON\", \"BARZOLA\", \"BELLO\", \"CACHAY\", \"CARRASCO\", \"CIRIACO\", \"DELGADO\", \"GAYOSO\", \"GONZALES\", \"GRANADOS\", \"HUAMAN\", \"LLANOS\",\"LUQUE\", \"PINEDA\", \"PRADO\", \"QUIJAHUAMAN\", \"QUISPE\" ,\"RAKAUSKAS\", \"RAMOS\", \"ROJAS\", \"SOTO\",\"ZARATE\"]\n",
    "\n",
    "apellido = input(\"Ingrese nombre a buscar: \")\n",
    "\n",
    "# Como los datos de la lista están en Mayúsculas, utilizo .upper()\n",
    "\n",
    "if apellido.upper() in LP3:\n",
    "    print(\"Si está en la lista de LP3\")\n",
    "else:\n",
    "    print(\"No está en la lista de LP3\")"
   ]
  },
  {
   "cell_type": "code",
   "execution_count": 6,
   "id": "19d24f47",
   "metadata": {},
   "outputs": [],
   "source": [
    "# Problema 02\n",
    "# Dado el importe total de ventas realizadas por un trabajador (Ingreso por teclado,\n",
    "# Categorizar que tipo de empleado es, considerando la siguiente tabla)\n",
    "\n",
    "# Categoría: A ->[1,1000]\n",
    "# Categoría: B ->[1000,2000]\n",
    "# Categoría: C ->[2000,5000]\n",
    "# Categoría: D ->[5000,Más]"
   ]
  },
  {
   "cell_type": "code",
   "execution_count": 13,
   "id": "9591983e",
   "metadata": {},
   "outputs": [
    {
     "name": "stdout",
     "output_type": "stream",
     "text": [
      "Ingrese el importe realizado: 3000\n",
      "El tipo de empleado es de categoría C\n"
     ]
    }
   ],
   "source": [
    "importe = int(input(\"Ingrese el importe realizado: \"))\n",
    "if importe >= 1 and importe <= 1000:\n",
    "    print(\"El tipo de empleado es de catoría A\")\n",
    "elif importe > 1000 and importe <= 2000:\n",
    "    print(\"El tipo de empleado es de categoría B\")\n",
    "elif importe > 2000 and importe <= 5000:\n",
    "    print(\"El tipo de empleado es de categoría C\")\n",
    "elif importe > 5000:\n",
    "    print(\"El tipo de empleado es de categoría D\")\n",
    "else:\n",
    "    print(\"El importe ingresado no pertenece a ninguna categoría\")"
   ]
  },
  {
   "cell_type": "code",
   "execution_count": null,
   "id": "f953368e",
   "metadata": {},
   "outputs": [],
   "source": []
  },
  {
   "cell_type": "code",
   "execution_count": null,
   "id": "7cbbb49a",
   "metadata": {},
   "outputs": [],
   "source": []
  }
 ],
 "metadata": {
  "kernelspec": {
   "display_name": "Python 3 (ipykernel)",
   "language": "python",
   "name": "python3"
  },
  "language_info": {
   "codemirror_mode": {
    "name": "ipython",
    "version": 3
   },
   "file_extension": ".py",
   "mimetype": "text/x-python",
   "name": "python",
   "nbconvert_exporter": "python",
   "pygments_lexer": "ipython3",
   "version": "3.9.12"
  }
 },
 "nbformat": 4,
 "nbformat_minor": 5
}
